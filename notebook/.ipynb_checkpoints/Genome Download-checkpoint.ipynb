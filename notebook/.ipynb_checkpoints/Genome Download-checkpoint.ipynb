{
 "cells": [
  {
   "cell_type": "code",
   "execution_count": 15,
   "metadata": {},
   "outputs": [],
   "source": [
    "import requests\n",
    "import bs4\n",
    "import gzip\n",
    "from Bio import SeqIO"
   ]
  },
  {
   "cell_type": "code",
   "execution_count": 2,
   "metadata": {},
   "outputs": [],
   "source": [
    "genomes = ['GCA_001014345.1', 'GCA_000002325.2', 'GCA_000209185.1',\n",
    "'GCA_000005245.1', 'GCA_000347755.4', 'GCA_000371365.1 ',\n",
    "'GCA_000204515.1', 'GCA_000147195.1', 'GCA_000789215.2 ',\n",
    "'GCA_000806365.1', 'GCA_000344095.2 ', 'GCA_000612105.2',\n",
    "'GCA_001015335.1', 'GCA_001188975.2 ', 'GCA_000648655.2',\n",
    "'GCA_001313835.1 ', 'GCF_001263575.1']"
   ]
  },
  {
   "cell_type": "code",
   "execution_count": 21,
   "metadata": {},
   "outputs": [],
   "source": [
    "def download_genome(genome):\n",
    "    t = genome[:3]\n",
    "    a = genome[4:7]\n",
    "    b = genome[7:10]\n",
    "    c = genome[10:13]\n",
    "    v = genome[14:]\n",
    "    url = \"https://ftp.ncbi.nlm.nih.gov/genomes/all/\" + \"/\".join([t,a,b,c])\n",
    "    r = requests.get(url)\n",
    "    name = bs4.BeautifulSoup(r.content, 'lxml').findAll('a')[-1].text\n",
    "    url = url + \"/\" + name\n",
    "    r = requests.get(url)\n",
    "    filename = find_cds(r.content)\n",
    "    url = url + filename\n",
    "    print(url)\n",
    "    r = requests.get(url)\n",
    "#     gbff = \n",
    "    f = open('../Genes/CDS/' + filename, 'wb')\n",
    "    f.write(r.content)\n",
    "    f.close()\n",
    "    decompress('../Genes/CDS/' + filename)\n",
    "\n",
    "def find_cds(html):\n",
    "    b = bs4.BeautifulSoup(html, 'lxml')\n",
    "    As = b.findAll('a')\n",
    "    for a in As:\n",
    "        if 'gbff' in a.text:\n",
    "            return a.text\n",
    "    return \"ERROR\"\n",
    "\n",
    "def decompress(f):\n",
    "    inF = gzip.GzipFile(f, 'rb')\n",
    "    s = inF.read()\n",
    "    inF.close()\n",
    "\n",
    "    outF = open(f[:-3], 'wb')\n",
    "    outF.write(s)\n",
    "    outF.close()\n",
    "    \n",
    "def extract_CDS(genome, filename):\n",
    "    f = open(\"../Genes/{}.CDS.fasta\".format(genome),'w')\n",
    "    for rec in SeqIO.parse('../Genes/CDS/' + filename[:-3], \"genbank\"):\n",
    "        if rec.features:\n",
    "            for feature in rec.features:\n",
    "                if feature.type == \"CDS\":\n",
    "                    f.write('>' + feature.qualifiers[\"protein_id\"][0] + '\\n')\n",
    "                    f.write(str(feature.location.extract(rec).seq) + '\\n')"
   ]
  },
  {
   "cell_type": "code",
   "execution_count": 22,
   "metadata": {
    "scrolled": true
   },
   "outputs": [
    {
     "name": "stdout",
     "output_type": "stream",
     "text": [
      "https://ftp.ncbi.nlm.nih.gov/genomes/all/GCA/001/014/345/GCA_001014345.1_ASM101434v1/GCA_001014345.1_ASM101434v1_genomic.gbff.gz\n",
      "https://ftp.ncbi.nlm.nih.gov/genomes/all/GCA/000/002/325/GCA_000002325.2_Nvit_2.1/GCA_000002325.2_Nvit_2.1_genomic.gbff.gz\n",
      "https://ftp.ncbi.nlm.nih.gov/genomes/all/GCA/000/209/185/GCA_000209185.1_CulPip1.0/GCA_000209185.1_CulPip1.0_genomic.gbff.gz\n",
      "https://ftp.ncbi.nlm.nih.gov/genomes/all/GCA/000/005/245/GCA_000005245.1_dvir_caf1/GCA_000005245.1_dvir_caf1_genomic.gbff.gz\n",
      "https://ftp.ncbi.nlm.nih.gov/genomes/all/GCA/000/347/755/GCA_000347755.4_Ccap_2.1/GCA_000347755.4_Ccap_2.1_genomic.gbff.gz\n",
      "https://ftp.ncbi.nlm.nih.gov/genomes/all/GCA/000/371/365/GCA_000371365.1_Musca_domestica-2.0.2/GCA_000371365.1_Musca_domestica-2.0.2_genomic.gbff.gz\n",
      "https://ftp.ncbi.nlm.nih.gov/genomes/all/GCA/000/204/515/GCA_000204515.1_Aech_3.9/GCA_000204515.1_Aech_3.9_genomic.gbff.gz\n",
      "https://ftp.ncbi.nlm.nih.gov/genomes/all/GCA/000/147/195/GCA_000147195.1_HarSal_1.0/GCA_000147195.1_HarSal_1.0_genomic.gbff.gz\n",
      "https://ftp.ncbi.nlm.nih.gov/genomes/all/GCA/000/789/215/GCA_000789215.2_ASM78921v2/GCA_000789215.2_ASM78921v2_genomic.gbff.gz\n",
      "https://ftp.ncbi.nlm.nih.gov/genomes/all/GCA/000/806/365/GCA_000806365.1_ASM80636v1/GCA_000806365.1_ASM80636v1_genomic.gbff.gz\n",
      "https://ftp.ncbi.nlm.nih.gov/genomes/all/GCA/000/344/095/GCA_000344095.2_Aros_2.0/GCA_000344095.2_Aros_2.0_genomic.gbff.gz\n",
      "https://ftp.ncbi.nlm.nih.gov/genomes/all/GCA/000/612/105/GCA_000612105.2_Oabi_2.0/GCA_000612105.2_Oabi_2.0_genomic.gbff.gz\n",
      "https://ftp.ncbi.nlm.nih.gov/genomes/all/GCA/001/015/335/GCA_001015335.1_Stomoxys_calcitrans-1.0.1/GCA_001015335.1_Stomoxys_calcitrans-1.0.1_genomic.gbff.gz\n",
      "https://ftp.ncbi.nlm.nih.gov/genomes/all/GCA/001/188/975/GCA_001188975.2_gapfilled_joined_lt9474.gt500.covgt10/GCA_001188975.2_gapfilled_joined_lt9474.gt500.covgt10_genomic.gbff.gz\n",
      "https://ftp.ncbi.nlm.nih.gov/genomes/all/GCA/000/648/655/GCA_000648655.2_Cflo_2.0/GCA_000648655.2_Cflo_2.0_genomic.gbff.gz\n",
      "https://ftp.ncbi.nlm.nih.gov/genomes/all/GCA/001/313/835/GCA_001313835.1_ASM131383v1/GCA_001313835.1_ASM131383v1_genomic.gbff.gz\n",
      "https://ftp.ncbi.nlm.nih.gov/genomes/all/GCF/001/263/575/GCF_001263575.1_Nlec1.0/GCF_001263575.1_Nlec1.0_genomic.gbff.gz\n"
     ]
    }
   ],
   "source": [
    "for g in genomes:\n",
    "    download_genome(g)"
   ]
  },
  {
   "cell_type": "code",
   "execution_count": 23,
   "metadata": {},
   "outputs": [],
   "source": [
    "filename = \"GCF_001263575.1_Nlec1.0_genomic.gbff.gz\""
   ]
  },
  {
   "cell_type": "code",
   "execution_count": 24,
   "metadata": {},
   "outputs": [
    {
     "data": {
      "text/plain": [
       "4523"
      ]
     },
     "execution_count": 24,
     "metadata": {},
     "output_type": "execute_result"
    }
   ],
   "source": [
    "SeqIO.convert('../Genes/CDS/' + filename[:-3], \"genbank\", '../Genes/CDS/' + filename + '.fasta', \"fasta\")"
   ]
  },
  {
   "cell_type": "code",
   "execution_count": 29,
   "metadata": {},
   "outputs": [],
   "source": []
  },
  {
   "cell_type": "code",
   "execution_count": 14,
   "metadata": {},
   "outputs": [
    {
     "ename": "UnicodeDecodeError",
     "evalue": "'utf-8' codec can't decode byte 0x8b in position 1: invalid start byte",
     "output_type": "error",
     "traceback": [
      "\u001b[0;31m---------------------------------------------------------------------------\u001b[0m",
      "\u001b[0;31mUnicodeDecodeError\u001b[0m                        Traceback (most recent call last)",
      "\u001b[0;32m<ipython-input-14-c09d8445b532>\u001b[0m in \u001b[0;36m<module>\u001b[0;34m()\u001b[0m\n\u001b[0;32m----> 1\u001b[0;31m \u001b[0mSeqIO\u001b[0m\u001b[0;34m.\u001b[0m\u001b[0mconvert\u001b[0m\u001b[0;34m(\u001b[0m\u001b[0;34m\"../Genes/CDS/GCF_001263575.1_Nlec1.0_genomic.gbff.gz\"\u001b[0m\u001b[0;34m,\u001b[0m \u001b[0;34m\"genbank\"\u001b[0m\u001b[0;34m,\u001b[0m \u001b[0;34m\"../Genes/test.fasta\"\u001b[0m\u001b[0;34m,\u001b[0m \u001b[0;34m\"fasta\"\u001b[0m\u001b[0;34m)\u001b[0m\u001b[0;34m\u001b[0m\u001b[0m\n\u001b[0m",
      "\u001b[0;32m~/anaconda3/envs/datascience/lib/python3.6/site-packages/Bio/SeqIO/__init__.py\u001b[0m in \u001b[0;36mconvert\u001b[0;34m(in_file, in_format, out_file, out_format, alphabet)\u001b[0m\n\u001b[1;32m   1050\u001b[0m             count = _handle_convert(in_handle, in_format,\n\u001b[1;32m   1051\u001b[0m                                     \u001b[0mout_handle\u001b[0m\u001b[0;34m,\u001b[0m \u001b[0mout_format\u001b[0m\u001b[0;34m,\u001b[0m\u001b[0;34m\u001b[0m\u001b[0m\n\u001b[0;32m-> 1052\u001b[0;31m                                     alphabet)\n\u001b[0m\u001b[1;32m   1053\u001b[0m     \u001b[0;32mreturn\u001b[0m \u001b[0mcount\u001b[0m\u001b[0;34m\u001b[0m\u001b[0m\n\u001b[1;32m   1054\u001b[0m \u001b[0;34m\u001b[0m\u001b[0m\n",
      "\u001b[0;32m~/anaconda3/envs/datascience/lib/python3.6/site-packages/Bio/SeqIO/_convert.py\u001b[0m in \u001b[0;36m_handle_convert\u001b[0;34m(in_handle, in_format, out_handle, out_format, alphabet)\u001b[0m\n\u001b[1;32m    372\u001b[0m         \u001b[0mf\u001b[0m \u001b[0;34m=\u001b[0m \u001b[0;32mNone\u001b[0m\u001b[0;34m\u001b[0m\u001b[0m\n\u001b[1;32m    373\u001b[0m     \u001b[0;32mif\u001b[0m \u001b[0mf\u001b[0m\u001b[0;34m:\u001b[0m\u001b[0;34m\u001b[0m\u001b[0m\n\u001b[0;32m--> 374\u001b[0;31m         \u001b[0;32mreturn\u001b[0m \u001b[0mf\u001b[0m\u001b[0;34m(\u001b[0m\u001b[0min_handle\u001b[0m\u001b[0;34m,\u001b[0m \u001b[0mout_handle\u001b[0m\u001b[0;34m,\u001b[0m \u001b[0malphabet\u001b[0m\u001b[0;34m)\u001b[0m\u001b[0;34m\u001b[0m\u001b[0m\n\u001b[0m\u001b[1;32m    375\u001b[0m     \u001b[0;32melse\u001b[0m\u001b[0;34m:\u001b[0m\u001b[0;34m\u001b[0m\u001b[0m\n\u001b[1;32m    376\u001b[0m         \u001b[0mrecords\u001b[0m \u001b[0;34m=\u001b[0m \u001b[0mSeqIO\u001b[0m\u001b[0;34m.\u001b[0m\u001b[0mparse\u001b[0m\u001b[0;34m(\u001b[0m\u001b[0min_handle\u001b[0m\u001b[0;34m,\u001b[0m \u001b[0min_format\u001b[0m\u001b[0;34m,\u001b[0m \u001b[0malphabet\u001b[0m\u001b[0;34m)\u001b[0m\u001b[0;34m\u001b[0m\u001b[0m\n",
      "\u001b[0;32m~/anaconda3/envs/datascience/lib/python3.6/site-packages/Bio/SeqIO/_convert.py\u001b[0m in \u001b[0;36m_genbank_convert_fasta\u001b[0;34m(in_handle, out_handle, alphabet)\u001b[0m\n\u001b[1;32m     38\u001b[0m     \u001b[0mrecords\u001b[0m \u001b[0;34m=\u001b[0m \u001b[0mGenBankScanner\u001b[0m\u001b[0;34m(\u001b[0m\u001b[0;34m)\u001b[0m\u001b[0;34m.\u001b[0m\u001b[0mparse_records\u001b[0m\u001b[0;34m(\u001b[0m\u001b[0min_handle\u001b[0m\u001b[0;34m,\u001b[0m \u001b[0mdo_features\u001b[0m\u001b[0;34m=\u001b[0m\u001b[0;32mFalse\u001b[0m\u001b[0;34m)\u001b[0m\u001b[0;34m\u001b[0m\u001b[0m\n\u001b[1;32m     39\u001b[0m     \u001b[0;31m# For FASTA output we can ignore the alphabet too\u001b[0m\u001b[0;34m\u001b[0m\u001b[0;34m\u001b[0m\u001b[0m\n\u001b[0;32m---> 40\u001b[0;31m     \u001b[0;32mreturn\u001b[0m \u001b[0mSeqIO\u001b[0m\u001b[0;34m.\u001b[0m\u001b[0mwrite\u001b[0m\u001b[0;34m(\u001b[0m\u001b[0mrecords\u001b[0m\u001b[0;34m,\u001b[0m \u001b[0mout_handle\u001b[0m\u001b[0;34m,\u001b[0m \u001b[0;34m\"fasta\"\u001b[0m\u001b[0;34m)\u001b[0m\u001b[0;34m\u001b[0m\u001b[0m\n\u001b[0m\u001b[1;32m     41\u001b[0m \u001b[0;34m\u001b[0m\u001b[0m\n\u001b[1;32m     42\u001b[0m \u001b[0;34m\u001b[0m\u001b[0m\n",
      "\u001b[0;32m~/anaconda3/envs/datascience/lib/python3.6/site-packages/Bio/SeqIO/__init__.py\u001b[0m in \u001b[0;36mwrite\u001b[0;34m(sequences, handle, format)\u001b[0m\n\u001b[1;32m    510\u001b[0m             \u001b[0mformat_function\u001b[0m \u001b[0;34m=\u001b[0m \u001b[0m_FormatToString\u001b[0m\u001b[0;34m[\u001b[0m\u001b[0mformat\u001b[0m\u001b[0;34m]\u001b[0m\u001b[0;34m\u001b[0m\u001b[0m\n\u001b[1;32m    511\u001b[0m             \u001b[0mcount\u001b[0m \u001b[0;34m=\u001b[0m \u001b[0;36m0\u001b[0m\u001b[0;34m\u001b[0m\u001b[0m\n\u001b[0;32m--> 512\u001b[0;31m             \u001b[0;32mfor\u001b[0m \u001b[0mrecord\u001b[0m \u001b[0;32min\u001b[0m \u001b[0msequences\u001b[0m\u001b[0;34m:\u001b[0m\u001b[0;34m\u001b[0m\u001b[0m\n\u001b[0m\u001b[1;32m    513\u001b[0m                 \u001b[0mfp\u001b[0m\u001b[0;34m.\u001b[0m\u001b[0mwrite\u001b[0m\u001b[0;34m(\u001b[0m\u001b[0mformat_function\u001b[0m\u001b[0;34m(\u001b[0m\u001b[0mrecord\u001b[0m\u001b[0;34m)\u001b[0m\u001b[0;34m)\u001b[0m\u001b[0;34m\u001b[0m\u001b[0m\n\u001b[1;32m    514\u001b[0m                 \u001b[0mcount\u001b[0m \u001b[0;34m+=\u001b[0m \u001b[0;36m1\u001b[0m\u001b[0;34m\u001b[0m\u001b[0m\n",
      "\u001b[0;32m~/anaconda3/envs/datascience/lib/python3.6/site-packages/Bio/GenBank/Scanner.py\u001b[0m in \u001b[0;36mparse_records\u001b[0;34m(self, handle, do_features)\u001b[0m\n\u001b[1;32m    487\u001b[0m         \u001b[0;31m# This is a generator function\u001b[0m\u001b[0;34m\u001b[0m\u001b[0;34m\u001b[0m\u001b[0m\n\u001b[1;32m    488\u001b[0m         \u001b[0;32mwhile\u001b[0m \u001b[0;32mTrue\u001b[0m\u001b[0;34m:\u001b[0m\u001b[0;34m\u001b[0m\u001b[0m\n\u001b[0;32m--> 489\u001b[0;31m             \u001b[0mrecord\u001b[0m \u001b[0;34m=\u001b[0m \u001b[0mself\u001b[0m\u001b[0;34m.\u001b[0m\u001b[0mparse\u001b[0m\u001b[0;34m(\u001b[0m\u001b[0mhandle\u001b[0m\u001b[0;34m,\u001b[0m \u001b[0mdo_features\u001b[0m\u001b[0;34m)\u001b[0m\u001b[0;34m\u001b[0m\u001b[0m\n\u001b[0m\u001b[1;32m    490\u001b[0m             \u001b[0;32mif\u001b[0m \u001b[0mrecord\u001b[0m \u001b[0;32mis\u001b[0m \u001b[0;32mNone\u001b[0m\u001b[0;34m:\u001b[0m\u001b[0;34m\u001b[0m\u001b[0m\n\u001b[1;32m    491\u001b[0m                 \u001b[0;32mbreak\u001b[0m\u001b[0;34m\u001b[0m\u001b[0m\n",
      "\u001b[0;32m~/anaconda3/envs/datascience/lib/python3.6/site-packages/Bio/GenBank/Scanner.py\u001b[0m in \u001b[0;36mparse\u001b[0;34m(self, handle, do_features)\u001b[0m\n\u001b[1;32m    471\u001b[0m                                     feature_cleaner=FeatureValueCleaner())\n\u001b[1;32m    472\u001b[0m \u001b[0;34m\u001b[0m\u001b[0m\n\u001b[0;32m--> 473\u001b[0;31m         \u001b[0;32mif\u001b[0m \u001b[0mself\u001b[0m\u001b[0;34m.\u001b[0m\u001b[0mfeed\u001b[0m\u001b[0;34m(\u001b[0m\u001b[0mhandle\u001b[0m\u001b[0;34m,\u001b[0m \u001b[0mconsumer\u001b[0m\u001b[0;34m,\u001b[0m \u001b[0mdo_features\u001b[0m\u001b[0;34m)\u001b[0m\u001b[0;34m:\u001b[0m\u001b[0;34m\u001b[0m\u001b[0m\n\u001b[0m\u001b[1;32m    474\u001b[0m             \u001b[0;32mreturn\u001b[0m \u001b[0mconsumer\u001b[0m\u001b[0;34m.\u001b[0m\u001b[0mdata\u001b[0m\u001b[0;34m\u001b[0m\u001b[0m\n\u001b[1;32m    475\u001b[0m         \u001b[0;32melse\u001b[0m\u001b[0;34m:\u001b[0m\u001b[0;34m\u001b[0m\u001b[0m\n",
      "\u001b[0;32m~/anaconda3/envs/datascience/lib/python3.6/site-packages/Bio/GenBank/Scanner.py\u001b[0m in \u001b[0;36mfeed\u001b[0;34m(self, handle, consumer, do_features)\u001b[0m\n\u001b[1;32m    428\u001b[0m         \u001b[0;31m# equivalent Bio.GenBank._FeatureConsumer methods are called...\u001b[0m\u001b[0;34m\u001b[0m\u001b[0;34m\u001b[0m\u001b[0m\n\u001b[1;32m    429\u001b[0m         \u001b[0mself\u001b[0m\u001b[0;34m.\u001b[0m\u001b[0mset_handle\u001b[0m\u001b[0;34m(\u001b[0m\u001b[0mhandle\u001b[0m\u001b[0;34m)\u001b[0m\u001b[0;34m\u001b[0m\u001b[0m\n\u001b[0;32m--> 430\u001b[0;31m         \u001b[0;32mif\u001b[0m \u001b[0;32mnot\u001b[0m \u001b[0mself\u001b[0m\u001b[0;34m.\u001b[0m\u001b[0mfind_start\u001b[0m\u001b[0;34m(\u001b[0m\u001b[0;34m)\u001b[0m\u001b[0;34m:\u001b[0m\u001b[0;34m\u001b[0m\u001b[0m\n\u001b[0m\u001b[1;32m    431\u001b[0m             \u001b[0;31m# Could not find (another) record\u001b[0m\u001b[0;34m\u001b[0m\u001b[0;34m\u001b[0m\u001b[0m\n\u001b[1;32m    432\u001b[0m             \u001b[0mconsumer\u001b[0m\u001b[0;34m.\u001b[0m\u001b[0mdata\u001b[0m \u001b[0;34m=\u001b[0m \u001b[0;32mNone\u001b[0m\u001b[0;34m\u001b[0m\u001b[0m\n",
      "\u001b[0;32m~/anaconda3/envs/datascience/lib/python3.6/site-packages/Bio/GenBank/Scanner.py\u001b[0m in \u001b[0;36mfind_start\u001b[0;34m(self)\u001b[0m\n\u001b[1;32m     84\u001b[0m                 \u001b[0mself\u001b[0m\u001b[0;34m.\u001b[0m\u001b[0mline\u001b[0m \u001b[0;34m=\u001b[0m \u001b[0;34m\"\"\u001b[0m\u001b[0;34m\u001b[0m\u001b[0m\n\u001b[1;32m     85\u001b[0m             \u001b[0;32melse\u001b[0m\u001b[0;34m:\u001b[0m\u001b[0;34m\u001b[0m\u001b[0m\n\u001b[0;32m---> 86\u001b[0;31m                 \u001b[0mline\u001b[0m \u001b[0;34m=\u001b[0m \u001b[0mself\u001b[0m\u001b[0;34m.\u001b[0m\u001b[0mhandle\u001b[0m\u001b[0;34m.\u001b[0m\u001b[0mreadline\u001b[0m\u001b[0;34m(\u001b[0m\u001b[0;34m)\u001b[0m\u001b[0;34m\u001b[0m\u001b[0m\n\u001b[0m\u001b[1;32m     87\u001b[0m             \u001b[0;32mif\u001b[0m \u001b[0;32mnot\u001b[0m \u001b[0mline\u001b[0m\u001b[0;34m:\u001b[0m\u001b[0;34m\u001b[0m\u001b[0m\n\u001b[1;32m     88\u001b[0m                 \u001b[0;32mif\u001b[0m \u001b[0mself\u001b[0m\u001b[0;34m.\u001b[0m\u001b[0mdebug\u001b[0m\u001b[0;34m:\u001b[0m\u001b[0;34m\u001b[0m\u001b[0m\n",
      "\u001b[0;32m~/anaconda3/envs/datascience/lib/python3.6/codecs.py\u001b[0m in \u001b[0;36mdecode\u001b[0;34m(self, input, final)\u001b[0m\n\u001b[1;32m    319\u001b[0m         \u001b[0;31m# decode input (taking the buffer into account)\u001b[0m\u001b[0;34m\u001b[0m\u001b[0;34m\u001b[0m\u001b[0m\n\u001b[1;32m    320\u001b[0m         \u001b[0mdata\u001b[0m \u001b[0;34m=\u001b[0m \u001b[0mself\u001b[0m\u001b[0;34m.\u001b[0m\u001b[0mbuffer\u001b[0m \u001b[0;34m+\u001b[0m \u001b[0minput\u001b[0m\u001b[0;34m\u001b[0m\u001b[0m\n\u001b[0;32m--> 321\u001b[0;31m         \u001b[0;34m(\u001b[0m\u001b[0mresult\u001b[0m\u001b[0;34m,\u001b[0m \u001b[0mconsumed\u001b[0m\u001b[0;34m)\u001b[0m \u001b[0;34m=\u001b[0m \u001b[0mself\u001b[0m\u001b[0;34m.\u001b[0m\u001b[0m_buffer_decode\u001b[0m\u001b[0;34m(\u001b[0m\u001b[0mdata\u001b[0m\u001b[0;34m,\u001b[0m \u001b[0mself\u001b[0m\u001b[0;34m.\u001b[0m\u001b[0merrors\u001b[0m\u001b[0;34m,\u001b[0m \u001b[0mfinal\u001b[0m\u001b[0;34m)\u001b[0m\u001b[0;34m\u001b[0m\u001b[0m\n\u001b[0m\u001b[1;32m    322\u001b[0m         \u001b[0;31m# keep undecoded input until the next call\u001b[0m\u001b[0;34m\u001b[0m\u001b[0;34m\u001b[0m\u001b[0m\n\u001b[1;32m    323\u001b[0m         \u001b[0mself\u001b[0m\u001b[0;34m.\u001b[0m\u001b[0mbuffer\u001b[0m \u001b[0;34m=\u001b[0m \u001b[0mdata\u001b[0m\u001b[0;34m[\u001b[0m\u001b[0mconsumed\u001b[0m\u001b[0;34m:\u001b[0m\u001b[0;34m]\u001b[0m\u001b[0;34m\u001b[0m\u001b[0m\n",
      "\u001b[0;31mUnicodeDecodeError\u001b[0m: 'utf-8' codec can't decode byte 0x8b in position 1: invalid start byte"
     ]
    }
   ],
   "source": []
  },
  {
   "cell_type": "code",
   "execution_count": 6,
   "metadata": {},
   "outputs": [],
   "source": [
    "c = r.content"
   ]
  },
  {
   "cell_type": "code",
   "execution_count": 9,
   "metadata": {},
   "outputs": [
    {
     "ename": "UnicodeDecodeError",
     "evalue": "'ascii' codec can't decode byte 0x8b in position 1: ordinal not in range(128)",
     "output_type": "error",
     "traceback": [
      "\u001b[0;31m---------------------------------------------------------------------------\u001b[0m",
      "\u001b[0;31mUnicodeDecodeError\u001b[0m                        Traceback (most recent call last)",
      "\u001b[0;32m<ipython-input-9-c7fabdba8442>\u001b[0m in \u001b[0;36m<module>\u001b[0;34m()\u001b[0m\n\u001b[0;32m----> 1\u001b[0;31m \u001b[0ms\u001b[0m \u001b[0;34m=\u001b[0m \u001b[0mc\u001b[0m\u001b[0;34m.\u001b[0m\u001b[0mdecode\u001b[0m\u001b[0;34m(\u001b[0m\u001b[0;34m'ascii'\u001b[0m\u001b[0;34m)\u001b[0m\u001b[0;34m\u001b[0m\u001b[0m\n\u001b[0m",
      "\u001b[0;31mUnicodeDecodeError\u001b[0m: 'ascii' codec can't decode byte 0x8b in position 1: ordinal not in range(128)"
     ]
    }
   ],
   "source": []
  },
  {
   "cell_type": "code",
   "execution_count": 10,
   "metadata": {},
   "outputs": [
    {
     "data": {
      "text/plain": [
       "b'\\x1f\\x8b\\x08\\x00\\x00\\x00\\x00\\x00\\x00\\x03\\xec\\xbd]\\x93gWu\\xa7y\\xafOq\\x02\\xdf\\xb8#\\x00WfUee\\xb9\\x83\\x0b\\x01\\xb2\\x077\\x08\\x0f\\x02\\xf7\\xf4\\xdc\\x10\\x9b\\xa5b\\xa1i\\x91\\xc5H[\\x1e3\\x9f~\\xfeg=\\xcf\\xdag\\xa7\\xdcr3\\x0e\\x87\\xdb\\x0eK\\xc8VVV\\xe6\\xfe\\x9f\\x97\\xfd\\xb2^~/?\\xfd\\xf9\\x8f~\\xf5\\xc9\\xc1?\\x7f\\xf3\\x7f\\xfc'"
      ]
     },
     "execution_count": 10,
     "metadata": {},
     "output_type": "execute_result"
    }
   ],
   "source": []
  }
 ],
 "metadata": {
  "kernelspec": {
   "display_name": "Python 3",
   "language": "python",
   "name": "python3"
  },
  "language_info": {
   "codemirror_mode": {
    "name": "ipython",
    "version": 3
   },
   "file_extension": ".py",
   "mimetype": "text/x-python",
   "name": "python",
   "nbconvert_exporter": "python",
   "pygments_lexer": "ipython3",
   "version": "3.6.5"
  }
 },
 "nbformat": 4,
 "nbformat_minor": 2
}
