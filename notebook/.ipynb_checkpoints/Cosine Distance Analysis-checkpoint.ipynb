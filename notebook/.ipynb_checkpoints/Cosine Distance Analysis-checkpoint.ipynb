{
 "cells": [
  {
   "cell_type": "code",
   "execution_count": 1,
   "metadata": {},
   "outputs": [],
   "source": [
    "import sklearn as sk\n",
    "from sklearn.decomposition import PCA\n",
    "from sklearn import cluster\n",
    "import pandas as pd\n",
    "import numpy as np\n",
    "import os\n",
    "import random\n",
    "from Bio import SeqIO\n",
    "import seaborn as sns\n",
    "import matplotlib.pyplot as plt\n",
    "import prettyplotlib as ppl\n",
    "import scipy as sp\n",
    "%matplotlib inline"
   ]
  },
  {
   "cell_type": "markdown",
   "metadata": {},
   "source": [
    "# Loading Sequences"
   ]
  },
  {
   "cell_type": "code",
   "execution_count": 2,
   "metadata": {},
   "outputs": [
    {
     "name": "stdout",
     "output_type": "stream",
     "text": [
      "['Fopius_arisanus.CodonFreq.tsv', 'Stomoxys_calcitrans.CodonFreq.tsv', 'Athalia_rosae.CodonFreq.tsv', 'Ceratitis_capitata.CodonFreq.tsv', 'Copidosoma_floridanum.CodonFreq.tsv', 'Drosophila_melanogaster.CodonFreq.tsv', 'Bactrocera_oleae.CodonFreq.tsv', 'Nasonia_vitripennis.CodonFreq.tsv', 'Orussus_abietinus.CodonFreq.tsv', 'Bactrocera_dorsalis.CodonFreq.tsv', 'Musca_domestica.CodonFreq.tsv', 'Harpegnathos_saltator.CodonFreq.tsv', 'Neodiprion_lecontei.CodonFreq.tsv', 'Drosophila_virilis.CodonFreq.tsv', 'Polistes_canadensis.CodonFreq.tsv', 'Acromyrmex_echinatior.CodonFreq.tsv', 'Culex_quinquefasciatus.CodonFreq.tsv']\n"
     ]
    },
    {
     "name": "stderr",
     "output_type": "stream",
     "text": [
      "/usr/local/lib/python2.7/dist-packages/Bio/GenBank/Scanner.py:1200: BiopythonParserWarning: Attempting to parse malformed locus line:\n",
      "'LOCUS       LOTUS_-_NT_033777_-_osk_mRNA_-_osk_CDS_extraction         372 bp    DNA     linear   UNA 10-JUN-2016\\n'\n",
      "Found locus 'LOTUS_-_NT_033777_-_osk_mRNA_-_osk_CDS_extraction' size '372' residue_type 'DNA'\n",
      "Some fields may be wrong.\n",
      "  splitline[2], splitline[4]), BiopythonParserWarning)\n",
      "/usr/local/lib/python2.7/dist-packages/Bio/GenBank/Scanner.py:180: BiopythonParserWarning: line too short to contain a feature: '     misc_feature'\n",
      "  BiopythonParserWarning)\n",
      "/usr/local/lib/python2.7/dist-packages/Bio/GenBank/Scanner.py:1200: BiopythonParserWarning: Attempting to parse malformed locus line:\n",
      "'LOCUS       LOTUS_-_NW_001817681_-_oskar_mRNA_-_oskar_CDS_extraction         396 bp    DNA     linear   UNA 10-JUN-2016\\n'\n",
      "Found locus 'LOTUS_-_NW_001817681_-_oskar_mRNA_-_oskar_CDS_extraction' size '396' residue_type 'DNA'\n",
      "Some fields may be wrong.\n",
      "  splitline[2], splitline[4]), BiopythonParserWarning)\n",
      "/usr/local/lib/python2.7/dist-packages/Bio/GenBank/Scanner.py:1200: BiopythonParserWarning: Attempting to parse malformed locus line:\n",
      "'LOCUS       LOTUS_-_NW_001886841_-_oskar_mRNA_-_oskar_CDS_extraction         480 bp    DNA     linear   UNA 10-JUN-2016\\n'\n",
      "Found locus 'LOTUS_-_NW_001886841_-_oskar_mRNA_-_oskar_CDS_extraction' size '480' residue_type 'DNA'\n",
      "Some fields may be wrong.\n",
      "  splitline[2], splitline[4]), BiopythonParserWarning)\n",
      "/usr/local/lib/python2.7/dist-packages/Bio/GenBank/Scanner.py:1200: BiopythonParserWarning: Attempting to parse malformed locus line:\n",
      "'LOCUS       LOTUS_-_NW_002014424_-_Dvir\\\\osk_mRNA_-_Dvir\\\\osk_CDS_extraction         372 bp    DNA     linear   UNA 10-JUN-2016\\n'\n",
      "Found locus 'LOTUS_-_NW_002014424_-_Dvir\\\\osk_mRNA_-_Dvir\\\\osk_CDS_extraction' size '372' residue_type 'DNA'\n",
      "Some fields may be wrong.\n",
      "  splitline[2], splitline[4]), BiopythonParserWarning)\n",
      "/usr/local/lib/python2.7/dist-packages/Bio/GenBank/Scanner.py:1200: BiopythonParserWarning: Attempting to parse malformed locus line:\n",
      "'LOCUS       LOTUS_-_NW_004523902_-_LOC101450245_mRNA_-_LOC101450245_CDS_extraction         477 bp    DNA     linear   UNA 10-JUN-2016\\n'\n",
      "Found locus 'LOTUS_-_NW_004523902_-_LOC101450245_mRNA_-_LOC101450245_CDS_extraction' size '477' residue_type 'DNA'\n",
      "Some fields may be wrong.\n",
      "  splitline[2], splitline[4]), BiopythonParserWarning)\n",
      "/usr/local/lib/python2.7/dist-packages/Bio/GenBank/Scanner.py:1200: BiopythonParserWarning: Attempting to parse malformed locus line:\n",
      "'LOCUS       LOTUS_-_NW_004761175_-_LOC101890691_mRNA_-_LOC101890691_CDS_extraction         438 bp    DNA     linear   UNA 10-JUN-2016\\n'\n",
      "Found locus 'LOTUS_-_NW_004761175_-_LOC101890691_mRNA_-_LOC101890691_CDS_extraction' size '438' residue_type 'DNA'\n",
      "Some fields may be wrong.\n",
      "  splitline[2], splitline[4]), BiopythonParserWarning)\n",
      "/usr/local/lib/python2.7/dist-packages/Bio/GenBank/Scanner.py:1200: BiopythonParserWarning: Attempting to parse malformed locus line:\n",
      "'LOCUS       LOTUS_-_NW_011627193_-_LOC105147973_mRNA_-_LOC105147973_CDS_extraction         279 bp    DNA     linear   UNA 24-MAY-2016\\n'\n",
      "Found locus 'LOTUS_-_NW_011627193_-_LOC105147973_mRNA_-_LOC105147973_CDS_extraction' size '279' residue_type 'DNA'\n",
      "Some fields may be wrong.\n",
      "  splitline[2], splitline[4]), BiopythonParserWarning)\n",
      "/usr/local/lib/python2.7/dist-packages/Bio/GenBank/Scanner.py:1200: BiopythonParserWarning: Attempting to parse malformed locus line:\n",
      "'LOCUS       LOTUS_-_NW_011652635_-_LOC105187957_mRNA_-_LOC105187957_CDS_extraction         375 bp    DNA     linear   UNA 10-JUN-2016\\n'\n",
      "Found locus 'LOTUS_-_NW_011652635_-_LOC105187957_mRNA_-_LOC105187957_CDS_extraction' size '375' residue_type 'DNA'\n",
      "Some fields may be wrong.\n",
      "  splitline[2], splitline[4]), BiopythonParserWarning)\n",
      "/usr/local/lib/python2.7/dist-packages/Bio/GenBank/Scanner.py:1200: BiopythonParserWarning: Attempting to parse malformed locus line:\n",
      "'LOCUS       LOTUS_-_NW_011876055_-_LOC105232054_mRNA_-_LOC105232054_CDS_extraction         375 bp    DNA     linear   UNA 10-JUN-2016\\n'\n",
      "Found locus 'LOTUS_-_NW_011876055_-_LOC105232054_mRNA_-_LOC105232054_CDS_extraction' size '375' residue_type 'DNA'\n",
      "Some fields may be wrong.\n",
      "  splitline[2], splitline[4]), BiopythonParserWarning)\n",
      "/usr/local/lib/python2.7/dist-packages/Bio/GenBank/Scanner.py:1200: BiopythonParserWarning: Attempting to parse malformed locus line:\n",
      "'LOCUS       LOTUS_-_NW_011887791_-_LOC105267990_mRNA_-_LOC105267990_CDS_extraction         303 bp    DNA     linear   UNA 24-MAY-2016\\n'\n",
      "Found locus 'LOTUS_-_NW_011887791_-_LOC105267990_mRNA_-_LOC105267990_CDS_extraction' size '303' residue_type 'DNA'\n",
      "Some fields may be wrong.\n",
      "  splitline[2], splitline[4]), BiopythonParserWarning)\n",
      "/usr/local/lib/python2.7/dist-packages/Bio/GenBank/Scanner.py:1200: BiopythonParserWarning: Attempting to parse malformed locus line:\n",
      "'LOCUS       LOTUS_-_NW_012162412_-_LOC105692731_mRNA_-_LOC105692731_CDS_extraction         399 bp    DNA     linear   UNA 10-JUN-2016\\n'\n",
      "Found locus 'LOTUS_-_NW_012162412_-_LOC105692731_mRNA_-_LOC105692731_CDS_extraction' size '399' residue_type 'DNA'\n",
      "Some fields may be wrong.\n",
      "  splitline[2], splitline[4]), BiopythonParserWarning)\n",
      "/usr/local/lib/python2.7/dist-packages/Bio/GenBank/Scanner.py:1200: BiopythonParserWarning: Attempting to parse malformed locus line:\n",
      "'LOCUS       LOTUS_-_NW_012191686_-_LOC105696794_mRNA_-_LOC105696794_CDS_-_LOC105696794_CDS         438 bp    DNA     linear   UNA 10-JUN-2016\\n'\n",
      "Found locus 'LOTUS_-_NW_012191686_-_LOC105696794_mRNA_-_LOC105696794_CDS_-_LOC105696794_CDS' size '438' residue_type 'DNA'\n",
      "Some fields may be wrong.\n",
      "  splitline[2], splitline[4]), BiopythonParserWarning)\n",
      "/usr/local/lib/python2.7/dist-packages/Bio/GenBank/Scanner.py:1200: BiopythonParserWarning: Attempting to parse malformed locus line:\n",
      "'LOCUS       LOTUS_-_NW_013172248_-_LOC106086381_mRNA_-_LOC106086381_CDS_extraction         378 bp    DNA     linear   UNA 10-JUN-2016\\n'\n",
      "Found locus 'LOTUS_-_NW_013172248_-_LOC106086381_mRNA_-_LOC106086381_CDS_extraction' size '378' residue_type 'DNA'\n",
      "Some fields may be wrong.\n",
      "  splitline[2], splitline[4]), BiopythonParserWarning)\n",
      "/usr/local/lib/python2.7/dist-packages/Bio/GenBank/Scanner.py:1200: BiopythonParserWarning: Attempting to parse malformed locus line:\n",
      "'LOCUS       LOTUS_-_NW_013581214_-_LOC106622417_mRNA_-_LOC106622417_CDS_extraction         375 bp    DNA     linear   UNA 10-JUN-2016\\n'\n",
      "Found locus 'LOTUS_-_NW_013581214_-_LOC106622417_mRNA_-_LOC106622417_CDS_extraction' size '375' residue_type 'DNA'\n",
      "Some fields may be wrong.\n",
      "  splitline[2], splitline[4]), BiopythonParserWarning)\n",
      "/usr/local/lib/python2.7/dist-packages/Bio/GenBank/Scanner.py:1200: BiopythonParserWarning: Attempting to parse malformed locus line:\n",
      "'LOCUS       LOTUS_-_NW_014327462_-_LOC106642594_mRNA_-_LOC106642594_CDS_extraction         447 bp    DNA     linear   UNA 10-JUN-2016\\n'\n",
      "Found locus 'LOTUS_-_NW_014327462_-_LOC106642594_mRNA_-_LOC106642594_CDS_extraction' size '447' residue_type 'DNA'\n",
      "Some fields may be wrong.\n",
      "  splitline[2], splitline[4]), BiopythonParserWarning)\n",
      "/usr/local/lib/python2.7/dist-packages/Bio/GenBank/Scanner.py:1200: BiopythonParserWarning: Attempting to parse malformed locus line:\n",
      "'LOCUS       LOTUS_-_NW_014569554_-_LOC106790143_mRNA_-_LOC106790143_CDS_extraction         351 bp    DNA     linear   UNA 10-JUN-2016\\n'\n",
      "Found locus 'LOTUS_-_NW_014569554_-_LOC106790143_mRNA_-_LOC106790143_CDS_extraction' size '351' residue_type 'DNA'\n",
      "Some fields may be wrong.\n",
      "  splitline[2], splitline[4]), BiopythonParserWarning)\n",
      "/usr/local/lib/python2.7/dist-packages/Bio/GenBank/Scanner.py:1200: BiopythonParserWarning: Attempting to parse malformed locus line:\n",
      "'LOCUS       LOTUS_-_NW_015384928_-_LOC107223453_mRNA_-_LOC107223453_CDS_extraction         378 bp    DNA     linear   UNA 10-JUN-2016\\n'\n",
      "Found locus 'LOTUS_-_NW_015384928_-_LOC107223453_mRNA_-_LOC107223453_CDS_extraction' size '378' residue_type 'DNA'\n",
      "Some fields may be wrong.\n",
      "  splitline[2], splitline[4]), BiopythonParserWarning)\n",
      "/usr/local/lib/python2.7/dist-packages/Bio/GenBank/Scanner.py:1200: BiopythonParserWarning: Attempting to parse malformed locus line:\n",
      "'LOCUS       SGNH_-_NW_011627193_-_LOC105147973_mRNA_-_LOC105147973_CDS_extraction         717 bp    DNA     linear   UNA 24-MAY-2016\\n'\n",
      "Found locus 'SGNH_-_NW_011627193_-_LOC105147973_mRNA_-_LOC105147973_CDS_extraction' size '717' residue_type 'DNA'\n",
      "Some fields may be wrong.\n",
      "  splitline[2], splitline[4]), BiopythonParserWarning)\n",
      "/usr/local/lib/python2.7/dist-packages/Bio/GenBank/Scanner.py:1200: BiopythonParserWarning: Attempting to parse malformed locus line:\n",
      "'LOCUS       SGNH_-_NW_012162412_-_LOC105692731_mRNA_-_LOC105692731_CDS_extraction         606 bp    DNA     linear   UNA 24-MAY-2016\\n'\n",
      "Found locus 'SGNH_-_NW_012162412_-_LOC105692731_mRNA_-_LOC105692731_CDS_extraction' size '606' residue_type 'DNA'\n",
      "Some fields may be wrong.\n",
      "  splitline[2], splitline[4]), BiopythonParserWarning)\n",
      "/usr/local/lib/python2.7/dist-packages/Bio/GenBank/Scanner.py:1200: BiopythonParserWarning: Attempting to parse malformed locus line:\n",
      "'LOCUS       SGNH_-_NW_011876055_-_LOC105232054_mRNA_-_LOC105232054_CDS_extraction         894 bp    DNA     linear   UNA 26-MAY-2016\\n'\n",
      "Found locus 'SGNH_-_NW_011876055_-_LOC105232054_mRNA_-_LOC105232054_CDS_extraction' size '894' residue_type 'DNA'\n",
      "Some fields may be wrong.\n",
      "  splitline[2], splitline[4]), BiopythonParserWarning)\n",
      "/usr/local/lib/python2.7/dist-packages/Bio/GenBank/Scanner.py:1200: BiopythonParserWarning: Attempting to parse malformed locus line:\n",
      "'LOCUS       SGNH_-_NW_013581214_-_LOC106622417_mRNA_-_LOC106622417_CDS_extraction         894 bp    DNA     linear   UNA 26-MAY-2016\\n'\n",
      "Found locus 'SGNH_-_NW_013581214_-_LOC106622417_mRNA_-_LOC106622417_CDS_extraction' size '894' residue_type 'DNA'\n",
      "Some fields may be wrong.\n",
      "  splitline[2], splitline[4]), BiopythonParserWarning)\n",
      "/usr/local/lib/python2.7/dist-packages/Bio/GenBank/Scanner.py:1200: BiopythonParserWarning: Attempting to parse malformed locus line:\n",
      "'LOCUS       SGNH_-_NW_004523902_-_LOC101450245_mRNA_-_LOC101450245_CDS_extraction        1065 bp    DNA     linear   UNA 26-MAY-2016\\n'\n",
      "Found locus 'SGNH_-_NW_004523902_-_LOC101450245_mRNA_-_LOC101450245_CDS_extraction' size '1065' residue_type 'DNA'\n",
      "Some fields may be wrong.\n",
      "  splitline[2], splitline[4]), BiopythonParserWarning)\n",
      "/usr/local/lib/python2.7/dist-packages/Bio/GenBank/Scanner.py:1200: BiopythonParserWarning: Attempting to parse malformed locus line:\n",
      "'LOCUS       SGNH_-_NW_014327462_-_LOC106642594_mRNA_-_LOC106642594_CDS_extraction         603 bp    DNA     linear   UNA 24-MAY-2016\\n'\n",
      "Found locus 'SGNH_-_NW_014327462_-_LOC106642594_mRNA_-_LOC106642594_CDS_extraction' size '603' residue_type 'DNA'\n",
      "Some fields may be wrong.\n",
      "  splitline[2], splitline[4]), BiopythonParserWarning)\n",
      "/usr/local/lib/python2.7/dist-packages/Bio/GenBank/Scanner.py:1200: BiopythonParserWarning: Attempting to parse malformed locus line:\n",
      "'LOCUS       SGNH_-_NW_001886841_-_oskar_mRNA_-_oskar_CDS_extraction         579 bp    DNA     linear   UNA 24-MAY-2016\\n'\n",
      "Found locus 'SGNH_-_NW_001886841_-_oskar_mRNA_-_oskar_CDS_extraction' size '579' residue_type 'DNA'\n",
      "Some fields may be wrong.\n",
      "  splitline[2], splitline[4]), BiopythonParserWarning)\n",
      "/usr/local/lib/python2.7/dist-packages/Bio/GenBank/Scanner.py:1200: BiopythonParserWarning: Attempting to parse malformed locus line:\n",
      "'LOCUS       SGNH_-_NT_033777_-_osk_mRNA_-_osk_CDS_extraction         867 bp    DNA     linear   UNA 06-JUN-2016\\n'\n",
      "Found locus 'SGNH_-_NT_033777_-_osk_mRNA_-_osk_CDS_extraction' size '867' residue_type 'DNA'\n",
      "Some fields may be wrong.\n",
      "  splitline[2], splitline[4]), BiopythonParserWarning)\n",
      "/usr/local/lib/python2.7/dist-packages/Bio/GenBank/Scanner.py:1200: BiopythonParserWarning: Attempting to parse malformed locus line:\n",
      "'LOCUS       SGNH_-_NW_002014424_-_Dvir\\\\osk_mRNA_-_Dvir\\\\osk_CDS_extraction         801 bp    DNA     linear   UNA 26-MAY-2016\\n'\n",
      "Found locus 'SGNH_-_NW_002014424_-_Dvir\\\\osk_mRNA_-_Dvir\\\\osk_CDS_extraction' size '801' residue_type 'DNA'\n",
      "Some fields may be wrong.\n",
      "  splitline[2], splitline[4]), BiopythonParserWarning)\n",
      "/usr/local/lib/python2.7/dist-packages/Bio/GenBank/Scanner.py:1200: BiopythonParserWarning: Attempting to parse malformed locus line:\n",
      "'LOCUS       SGNH_-_NW_011887791_-_LOC105267990_mRNA_-_LOC105267990_CDS_extraction         816 bp    DNA     linear   UNA 24-MAY-2016\\n'\n",
      "Found locus 'SGNH_-_NW_011887791_-_LOC105267990_mRNA_-_LOC105267990_CDS_extraction' size '816' residue_type 'DNA'\n",
      "Some fields may be wrong.\n",
      "  splitline[2], splitline[4]), BiopythonParserWarning)\n",
      "/usr/local/lib/python2.7/dist-packages/Bio/GenBank/Scanner.py:1200: BiopythonParserWarning: Attempting to parse malformed locus line:\n",
      "'LOCUS       SGNH_-_NW_011652635_-_LOC105187957_mRNA_-_LOC105187957_CDS_extraction         672 bp    DNA     linear   UNA 24-MAY-2016\\n'\n",
      "Found locus 'SGNH_-_NW_011652635_-_LOC105187957_mRNA_-_LOC105187957_CDS_extraction' size '672' residue_type 'DNA'\n",
      "Some fields may be wrong.\n",
      "  splitline[2], splitline[4]), BiopythonParserWarning)\n",
      "/usr/local/lib/python2.7/dist-packages/Bio/GenBank/Scanner.py:1200: BiopythonParserWarning: Attempting to parse malformed locus line:\n",
      "'LOCUS       SGNH_-_NW_004761175_-_LOC101890691_mRNA_-_LOC101890691_CDS_extraction        1020 bp    DNA     linear   UNA 06-JUN-2016\\n'\n",
      "Found locus 'SGNH_-_NW_004761175_-_LOC101890691_mRNA_-_LOC101890691_CDS_extraction' size '1020' residue_type 'DNA'\n",
      "Some fields may be wrong.\n",
      "  splitline[2], splitline[4]), BiopythonParserWarning)\n",
      "/usr/local/lib/python2.7/dist-packages/Bio/GenBank/Scanner.py:1200: BiopythonParserWarning: Attempting to parse malformed locus line:\n",
      "'LOCUS       SGNH_-_NW_001817681_-_oskar_mRNA_-_oskar_CDS_extraction         606 bp    DNA     linear   UNA 24-MAY-2016\\n'\n",
      "Found locus 'SGNH_-_NW_001817681_-_oskar_mRNA_-_oskar_CDS_extraction' size '606' residue_type 'DNA'\n",
      "Some fields may be wrong.\n",
      "  splitline[2], splitline[4]), BiopythonParserWarning)\n",
      "/usr/local/lib/python2.7/dist-packages/Bio/GenBank/Scanner.py:1200: BiopythonParserWarning: Attempting to parse malformed locus line:\n",
      "'LOCUS       SGNH_-_NW_015384928_-_LOC107223453_mRNA_-_LOC107223453_CDS_extraction         618 bp    DNA     linear   UNA 24-MAY-2016\\n'\n",
      "Found locus 'SGNH_-_NW_015384928_-_LOC107223453_mRNA_-_LOC107223453_CDS_extraction' size '618' residue_type 'DNA'\n",
      "Some fields may be wrong.\n",
      "  splitline[2], splitline[4]), BiopythonParserWarning)\n",
      "/usr/local/lib/python2.7/dist-packages/Bio/GenBank/Scanner.py:1200: BiopythonParserWarning: Attempting to parse malformed locus line:\n",
      "'LOCUS       SGNH_-_NW_012191686_-_LOC105696794_mRNA_-_LOC105696794_CDS_extraction         681 bp    DNA     linear   UNA 24-MAY-2016\\n'\n",
      "Found locus 'SGNH_-_NW_012191686_-_LOC105696794_mRNA_-_LOC105696794_CDS_extraction' size '681' residue_type 'DNA'\n",
      "Some fields may be wrong.\n",
      "  splitline[2], splitline[4]), BiopythonParserWarning)\n",
      "/usr/local/lib/python2.7/dist-packages/Bio/GenBank/Scanner.py:1200: BiopythonParserWarning: Attempting to parse malformed locus line:\n",
      "'LOCUS       SGNH_-_NW_014569554_-_LOC106790143_mRNA_-_LOC106790143_CDS_extraction         636 bp    DNA     linear   UNA 24-MAY-2016\\n'\n",
      "Found locus 'SGNH_-_NW_014569554_-_LOC106790143_mRNA_-_LOC106790143_CDS_extraction' size '636' residue_type 'DNA'\n",
      "Some fields may be wrong.\n",
      "  splitline[2], splitline[4]), BiopythonParserWarning)\n",
      "/usr/local/lib/python2.7/dist-packages/Bio/GenBank/Scanner.py:1200: BiopythonParserWarning: Attempting to parse malformed locus line:\n",
      "'LOCUS       SGNH_-_NW_013172248_-_LOC106086381_mRNA_-_LOC106086381_CDS_extraction        1011 bp    DNA     linear   UNA 26-MAY-2016\\n'\n",
      "Found locus 'SGNH_-_NW_013172248_-_LOC106086381_mRNA_-_LOC106086381_CDS_extraction' size '1011' residue_type 'DNA'\n",
      "Some fields may be wrong.\n",
      "  splitline[2], splitline[4]), BiopythonParserWarning)\n"
     ]
    }
   ],
   "source": [
    "CodonsDict = {'TTT': 0, 'TTC': 0, 'TTA': 0, 'TTG': 0, 'CTT': 0,\n",
    "               'CTC': 0, 'CTA': 0, 'CTG': 0, 'ATT': 0, 'ATC': 0,\n",
    "               'ATA': 0, 'ATG': 0, 'GTT': 0, 'GTC': 0, 'GTA': 0,\n",
    "               'GTG': 0, 'TAT': 0, 'TAC': 0, 'TAA': 0, 'TAG': 0,\n",
    "               'CAT': 0, 'CAC': 0, 'CAA': 0, 'CAG': 0, 'AAT': 0,\n",
    "               'AAC': 0, 'AAA': 0, 'AAG': 0, 'GAT': 0, 'GAC': 0,\n",
    "               'GAA': 0, 'GAG': 0, 'TCT': 0, 'TCC': 0, 'TCA': 0,\n",
    "               'TCG': 0, 'CCT': 0, 'CCC': 0, 'CCA': 0, 'CCG': 0,\n",
    "               'ACT': 0, 'ACC': 0, 'ACA': 0, 'ACG': 0, 'GCT': 0,\n",
    "               'GCC': 0, 'GCA': 0, 'GCG': 0, 'TGT': 0, 'TGC': 0,\n",
    "               'TGA': 0, 'TGG': 0, 'CGT': 0, 'CGC': 0, 'CGA': 0,\n",
    "               'CGG': 0, 'AGT': 0, 'AGC': 0, 'AGA': 0, 'AGG': 0,\n",
    "               'GGT': 0, 'GGC': 0, 'GGA': 0, 'GGG': 0}\n",
    "\n",
    "codon_list = sorted(CodonsDict.keys())\n",
    "\n",
    "path = '../Genes/CDS'\n",
    "dbs = os.listdir(path)\n",
    "dbs = [i for i in dbs if 'CodonFreq' in i]\n",
    "print dbs\n",
    "f = open(os.path.join('../Genes/','LOTUS_Seqeuences_2.gb'))\n",
    "handle = SeqIO.parse(f, 'gb')\n",
    "LOTUS = {}\n",
    "for i in handle:\n",
    "    LOTUS[i.annotations['organism']] = i\n",
    "f = open(os.path.join('../Genes/','SGNH_Seqeuences.gb'))\n",
    "handle = SeqIO.parse(f, 'gb')\n",
    "SGNH = {}\n",
    "for i in handle:\n",
    "    SGNH[i.annotations['organism']] = i"
   ]
  },
  {
   "cell_type": "markdown",
   "metadata": {},
   "source": [
    "# Define Functions"
   ]
  },
  {
   "cell_type": "code",
   "execution_count": 3,
   "metadata": {},
   "outputs": [],
   "source": [
    "def _count_codons_freq(seq):\n",
    "    # make the codon dictionary local\n",
    "    codon_count = CodonsDict.copy()\n",
    "    # Make sure the sequence starts with a start codon and is a multiple of 3\n",
    "    tot = 0.0\n",
    "    if len(seq.seq) % 3 == 0:\n",
    "        # make sure the sequence is lower case\n",
    "        if str(seq.seq).islower():\n",
    "            dna_sequence = str(seq.seq).upper()\n",
    "        else:\n",
    "            dna_sequence = str(seq.seq)\n",
    "        for i in range(0, len(dna_sequence), 3):\n",
    "            codon = dna_sequence[i:i + 3]\n",
    "            if codon in codon_count:\n",
    "                tot += 1.0\n",
    "                codon_count[codon] += 1\n",
    "            else:\n",
    "                print \"illegal codon %s in gene: %s\" % (codon, seq.id)\n",
    "        if tot:\n",
    "            for c in codon_count:\n",
    "                codon_count[c] = codon_count[c] / tot\n",
    "            return codon_count\n",
    "        else:\n",
    "            return None\n",
    "    else:\n",
    "        print \"invalid CDS\"\n",
    "        \n",
    "def make_codon_list(cod):\n",
    "    tmp = []\n",
    "    for c in sorted(CodonsDict.keys()):\n",
    "        tmp.append(cod[c])\n",
    "    return tmp\n",
    "\n",
    "\n",
    "def Z_score(x, dist):\n",
    "    #Z = x-mu/sigma\n",
    "    mu = np.mean(dist)\n",
    "    sigma = np.std(dist)\n",
    "    z = (x-mu)/sigma\n",
    "    return z"
   ]
  },
  {
   "cell_type": "markdown",
   "metadata": {},
   "source": [
    "# Calculate Osk Codon Usage"
   ]
  },
  {
   "cell_type": "code",
   "execution_count": 4,
   "metadata": {},
   "outputs": [],
   "source": [
    "osk = []\n",
    "for k in LOTUS:\n",
    "    l = _count_codons_freq(LOTUS[k])\n",
    "    s = _count_codons_freq(SGNH[k])\n",
    "    tmp_l = [k, 'LOTUS']\n",
    "    tmp_s = [k, 'SGNH']\n",
    "    [tmp_l.append(l[c]) for c in codon_list]\n",
    "    [tmp_s.append(s[c]) for c in codon_list]\n",
    "    osk.append(tmp_l)\n",
    "    osk.append(tmp_s)\n",
    "osk = pd.DataFrame(osk, columns=['Organism', 'Domain'] + codon_list)"
   ]
  },
  {
   "cell_type": "markdown",
   "metadata": {},
   "source": [
    "# Load Codon Usage Datasets "
   ]
  },
  {
   "cell_type": "code",
   "execution_count": 5,
   "metadata": {},
   "outputs": [],
   "source": [
    "data = []\n",
    "for db in dbs:\n",
    "    orga = db.split('.')[0].replace('_',' ')\n",
    "    lines = [i.strip() for i in open(os.path.join(path, db)).readlines()]\n",
    "    [data.append([orga] + i.split('\\t')) for i in lines]\n",
    "data= pd.DataFrame(data, columns=['Organism'] + sorted(CodonsDict.keys()))"
   ]
  },
  {
   "cell_type": "markdown",
   "metadata": {},
   "source": [
    "# Defining distance metric to use"
   ]
  },
  {
   "cell_type": "code",
   "execution_count": 6,
   "metadata": {},
   "outputs": [],
   "source": [
    "metric = 'cosine'"
   ]
  },
  {
   "cell_type": "markdown",
   "metadata": {},
   "source": [
    "# Bootstrapping\n",
    "Choosing the best number of genes to measure with and set it to 1000"
   ]
  },
  {
   "cell_type": "code",
   "execution_count": 7,
   "metadata": {},
   "outputs": [
    {
     "name": "stderr",
     "output_type": "stream",
     "text": [
      "/usr/local/lib/python2.7/dist-packages/ipykernel/__main__.py:10: FutureWarning: convert_objects is deprecated.  Use the data-type specific converters pd.to_datetime, pd.to_timedelta and pd.to_numeric.\n"
     ]
    },
    {
     "data": {
      "image/png": "[encoded data removed]",
      "text/plain": [
       "<matplotlib.figure.Figure at 0x7f986692b410>"
      ]
     },
     "metadata": {},
     "output_type": "display_data"
    },
    {
     "data": {
      "image/png": "[encoded data removed]",
      "text/plain": [
       "<matplotlib.figure.Figure at 0x7f9827548910>"
      ]
     },
     "metadata": {},
     "output_type": "display_data"
    }
   ],
   "source": [
    "genes_dist = {}\n",
    "distances = []\n",
    "i = 0\n",
    "means = []\n",
    "for x_gene in range(100,1000,100):\n",
    "    for orga in LOTUS:\n",
    "#         print orga, x_gene\n",
    "        df = data[data['Organism'] == orga]\n",
    "        df = df[sorted(CodonsDict.keys())]\n",
    "        df = df.convert_objects(convert_numeric=True)\n",
    "        tmp_mean = []\n",
    "        for bootstrap in range(10):\n",
    "            np.random.shuffle(df.values)\n",
    "            dist = set(sp.spatial.distance.pdist(df.values[:x_gene], metric))\n",
    "            dist = random.sample(dist,(x_gene*x_gene)/3)\n",
    "            oksar = osk[osk['Organism'] == orga]\n",
    "            oksar = oksar[sorted(CodonsDict.keys())]\n",
    "            dls = sp.spatial.distance.pdist(oksar.values, metric)[0]\n",
    "            tmp_mean.append(np.mean(dist))\n",
    "        means.append([str(x_gene), np.std(tmp_mean), sp.stats.sem(tmp_mean)])\n",
    "tmp_df = pd.DataFrame(means, columns=['NbGene', 'Std', 'StErr'])\n",
    "f = plt.figure()\n",
    "sns.boxplot(data=tmp_df, x='NbGene', y='Std', order=[str(i) for i in range(100,1000,100)])\n",
    "plt.show()\n",
    "f = plt.figure()\n",
    "sns.boxplot(data=tmp_df, x='NbGene', y='StErr', order=[str(i) for i in range(100,1000,100)])\n",
    "plt.show()"
   ]
  },
  {
   "cell_type": "markdown",
   "metadata": {},
   "source": [
    "# Calculation of distances "
   ]
  },
  {
   "cell_type": "code",
   "execution_count": 8,
   "metadata": {
    "scrolled": true
   },
   "outputs": [
    {
     "name": "stdout",
     "output_type": "stream",
     "text": [
      "Ceratitis capitata\n"
     ]
    },
    {
     "name": "stderr",
     "output_type": "stream",
     "text": [
      "/usr/local/lib/python2.7/dist-packages/ipykernel/__main__.py:10: FutureWarning: convert_objects is deprecated.  Use the data-type specific converters pd.to_datetime, pd.to_timedelta and pd.to_numeric.\n"
     ]
    },
    {
     "name": "stdout",
     "output_type": "stream",
     "text": [
      "Athalia rosae\n",
      "Acromyrmex echinatior\n",
      "Neodiprion lecontei\n",
      "Bactrocera oleae\n",
      "Stomoxys calcitrans\n",
      "Musca domestica\n",
      "Copidosoma floridanum\n",
      "Drosophila virilis\n",
      "Culex quinquefasciatus\n",
      "Polistes canadensis\n",
      "Bactrocera dorsalis\n",
      "Drosophila melanogaster\n",
      "Orussus abietinus\n",
      "Nasonia vitripennis\n",
      "Harpegnathos saltator\n",
      "Fopius arisanus\n"
     ]
    }
   ],
   "source": [
    "genes_dist = {}\n",
    "distances = []\n",
    "i = 0\n",
    "means = []\n",
    "x_gene= 1000\n",
    "for orga in LOTUS:\n",
    "    print orga\n",
    "    df = data[data['Organism'] == orga]\n",
    "    df = df[sorted(CodonsDict.keys())]\n",
    "    df = df.convert_objects(convert_numeric=True)\n",
    "    distances.append([])\n",
    "    genes_dist[orga] = i\n",
    "    for bootstrap in range(10):\n",
    "        np.random.shuffle(df.values)\n",
    "        dist = set(sp.spatial.distance.pdist(df.values[:x_gene], metric))\n",
    "        dist = random.sample(dist, 100000)\n",
    "        distances[i] += dist\n",
    "    i += 1"
   ]
  },
  {
   "cell_type": "markdown",
   "metadata": {},
   "source": [
    "## Calculating Oskar to Inter-Gene distance"
   ]
  },
  {
   "cell_type": "code",
   "execution_count": 9,
   "metadata": {},
   "outputs": [],
   "source": [
    "d_average = []\n",
    "for orga in LOTUS:\n",
    "    dmel = osk[osk['Organism'] == orga]\n",
    "    dmel = dmel[sorted(CodonsDict.keys())]\n",
    "    dls = sp.spatial.distance.pdist(dmel.values, metric)\n",
    "    dist = random.sample(distances[genes_dist[orga]],100000)\n",
    "    d_average.append(Z_score(dls[0],dist))"
   ]
  },
  {
   "cell_type": "markdown",
   "metadata": {},
   "source": [
    "# creating the intra gene null distribution dataset"
   ]
  },
  {
   "cell_type": "code",
   "execution_count": 10,
   "metadata": {},
   "outputs": [
    {
     "name": "stdout",
     "output_type": "stream",
     "text": [
      "0 / 17\n",
      "1 / 17\n",
      "2 / 17\n",
      "3 / 17\n",
      "4 / 17\n",
      "5 / 17\n",
      "6 / 17\n",
      "7 / 17\n",
      "8 / 17\n",
      "9 / 17\n",
      "10 / 17\n",
      "11 / 17\n",
      "12 / 17\n",
      "13 / 17\n",
      "14 / 17\n",
      "15 / 17\n",
      "16 / 17\n"
     ]
    }
   ],
   "source": [
    "path = '../Genes/CDS'\n",
    "dbs_cds = os.listdir(path)\n",
    "dbs_cds = [i for i in dbs_cds if 'CDS' in i and 'highSet' not in i]\n",
    "genomes = {}\n",
    "null = {}\n",
    "j = 0\n",
    "for genome in dbs_cds:\n",
    "    print j,'/',len(dbs_cds)\n",
    "    orga = genome.split('.')[0].replace('_',' ')\n",
    "    handle = SeqIO.parse(os.path.join(path, genome),'fasta')\n",
    "    genomes[orga] = []\n",
    "    null[orga] = []\n",
    "    for seq in handle:\n",
    "        if len(seq) % 3 == 0 and str(seq.seq[0:3]) == 'ATG':\n",
    "            skip = False\n",
    "            alphabet = [i for i in \"BDEFHIJKLMNOPQRSUVWXYZ\"]\n",
    "            for let in alphabet:\n",
    "                if let in str(seq.seq):\n",
    "                    skip = True\n",
    "            if not skip:\n",
    "                genomes[orga].append(seq)\n",
    "                l = len(seq)\n",
    "                if l > 702:\n",
    "                    s = 1\n",
    "                    while s%3 != 0:\n",
    "                        s = np.random.randint(351, l-351)\n",
    "                    null[orga].append([seq[:s], seq[s:]])\n",
    "    j += 1"
   ]
  },
  {
   "cell_type": "markdown",
   "metadata": {},
   "source": [
    "# Calculating Oskar to intra-Gene distance in codon space"
   ]
  },
  {
   "cell_type": "code",
   "execution_count": 11,
   "metadata": {},
   "outputs": [],
   "source": [
    "null_codon = {}\n",
    "null_dist = {}\n",
    "for orga in null:\n",
    "    null_codon[orga] = []\n",
    "    null_dist[orga] = []\n",
    "    for gene in null[orga]:\n",
    "        try:\n",
    "            tmp = [make_codon_list(_count_codons_freq(gene[0])), make_codon_list(_count_codons_freq(gene[1]))]\n",
    "        except:\n",
    "            print gene\n",
    "        null_codon[orga].append(tmp)\n",
    "        null_dist[orga].append(sp.spatial.distance.pdist(tmp, metric))"
   ]
  },
  {
   "cell_type": "code",
   "execution_count": 13,
   "metadata": {
    "scrolled": true
   },
   "outputs": [],
   "source": [
    "null_dist_avg = []\n",
    "for orga in null_dist:\n",
    "    dmel = osk[osk['Organism'] == orga]\n",
    "    dmel = dmel[sorted(CodonsDict.keys())]\n",
    "    dls = sp.spatial.distance.pdist(dmel.values,metric)\n",
    "    h,b = np.histogram(null_dist[orga], bins=100)\n",
    "    null_dist_avg.append(Z_score(dls[0],null_dist[orga]))\n",
    "    h= h.astype(float)\n",
    "    h = h/h.sum()"
   ]
  },
  {
   "cell_type": "markdown",
   "metadata": {},
   "source": [
    "# Plotting Delta to mean and Stat test it"
   ]
  },
  {
   "cell_type": "code",
   "execution_count": 21,
   "metadata": {},
   "outputs": [
    {
     "data": {
      "text/plain": [
       "<matplotlib.text.Text at 0x7f98669d8f90>"
      ]
     },
     "execution_count": 21,
     "metadata": {},
     "output_type": "execute_result"
    },
    {
     "data": {
      "image/png": "[encoded data removed]",
      "text/plain": [
       "<matplotlib.figure.Figure at 0x7f9793be5550>"
      ]
     },
     "metadata": {},
     "output_type": "display_data"
    }
   ],
   "source": [
    "f, ax = plt.subplots(figsize=(12,8))\n",
    "sns.distplot(d_average, bins=10, hist=False, label='Inter-Gene')\n",
    "sns.distplot(null_dist_avg,bins=10, hist=False, label='Intra-Gene')\n",
    "pval = sp.stats.mannwhitneyu(null_dist_avg, d_average).pvalue\n",
    "plt.title('Distance between the mean of the inter/intra gene distance and SGNH-LOTUS distance (Utest p-val=%s)'%round(pval,3))\n",
    "plt.xlabel('Z_score(%s distance)'%metric)"
   ]
  },
  {
   "cell_type": "code",
   "execution_count": 15,
   "metadata": {},
   "outputs": [
    {
     "data": {
      "text/plain": [
       "<matplotlib.text.Text at 0x7f983402dbd0>"
      ]
     },
     "execution_count": 15,
     "metadata": {},
     "output_type": "execute_result"
    },
    {
     "data": {
      "image/png": "[encoded data removed]",
      "text/plain": [
       "<matplotlib.figure.Figure at 0x7f9835e69b50>"
      ]
     },
     "metadata": {},
     "output_type": "display_data"
    }
   ],
   "source": [
    "f, ax = plt.subplots(figsize=(3,3))\n",
    "d,a = [],[]\n",
    "for i in null_dist_avg:\n",
    "    d.append(i)\n",
    "    a.append('Intra-Gene')\n",
    "for i in d_average:\n",
    "    d.append(i)\n",
    "    a.append('Inter-Gene')\n",
    "df = pd.DataFrame()\n",
    "df['avg'] = pd.Series(d)\n",
    "df['dist'] = pd.Series(a)\n",
    "    \n",
    "sns.boxplot(data=df, x='dist', y='avg', order=['Inter-Gene','Intra-Gene'])\n",
    "pval = sp.stats.mannwhitneyu(null_dist_avg, d_average).pvalue\n",
    "plt.title('Z_score of intra gene and SGNH-LOTUS\\ncosine distances (Utest p-val=%s)'%round(pval,3))\n",
    "plt.ylabel('Z_score(%s distance)'%metric)\n",
    "plt.xlabel('')"
   ]
  }
 ],
 "metadata": {
  "kernelspec": {
   "display_name": "Python 2",
   "language": "python",
   "name": "python2"
  },
  "language_info": {
   "codemirror_mode": {
    "name": "ipython",
    "version": 2
   },
   "file_extension": ".py",
   "mimetype": "text/x-python",
   "name": "python",
   "nbconvert_exporter": "python",
   "pygments_lexer": "ipython2",
   "version": "2.7.15rc1"
  }
 },
 "nbformat": 4,
 "nbformat_minor": 1
}
