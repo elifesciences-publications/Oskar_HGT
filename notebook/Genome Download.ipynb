{
 "cells": [
  {
   "cell_type": "markdown",
   "metadata": {},
   "source": [
    "# Important\n",
    "Run this script first to download all the genomes. "
   ]
  },
  {
   "cell_type": "code",
   "execution_count": 1,
   "metadata": {},
   "outputs": [],
   "source": [
    "import requests\n",
    "import gzip\n",
    "import os"
   ]
  },
  {
   "cell_type": "code",
   "execution_count": 2,
   "metadata": {},
   "outputs": [],
   "source": [
    "path = '../Genes/CDS'"
   ]
  },
  {
   "cell_type": "code",
   "execution_count": 3,
   "metadata": {},
   "outputs": [],
   "source": [
    "if not os.path.isdir(path):\n",
    "    os.mkdir(path)"
   ]
  },
  {
   "cell_type": "code",
   "execution_count": 4,
   "metadata": {},
   "outputs": [],
   "source": [
    "filelist =['Acromyrmex_echinatior.CDS.fasta.gz',\n",
    " 'Culex_quinquefasciatus.CDS.fasta.gz',\n",
    " 'Nasonia_vitripennis.CDS.fasta.gz',\n",
    " 'Acromyrmex_echinatior.CodonFreq.tsv.gz',\n",
    " 'Culex_quinquefasciatus.CodonFreq.tsv.gz',\n",
    " 'Nasonia_vitripennis.CodonFreq.tsv.gz',\n",
    " 'Athalia_rosae.CDS.fasta.gz',\n",
    " 'Drosophila_melanogaster.CDS.fasta.gz',\n",
    " 'Neodiprion_lecontei.CDS.fasta.gz',\n",
    " 'Athalia_rosae.CodonFreq.tsv.gz',\n",
    " 'Drosophila_melanogaster.CodonFreq.tsv.gz',\n",
    " 'Neodiprion_lecontei.CodonFreq.tsv.gz',\n",
    " 'Bactrocera_dorsalis.CDS.fasta.gz',\n",
    " 'Drosophila_virilis.CDS.fasta.gz',\n",
    " 'Orussus_abietinus.CDS.fasta.gz',\n",
    " 'Bactrocera_dorsalis.CodonFreq.tsv.gz',\n",
    " 'Drosophila_virilis.CodonFreq.tsv.gz',\n",
    " 'Orussus_abietinus.CodonFreq.tsv.gz',\n",
    " 'Bactrocera_oleae.CDS.fasta.gz',\n",
    " 'Fopius_arisanus.CDS.fasta.gz',\n",
    " 'Polistes_canadensis.CDS.fasta.gz',\n",
    " 'Bactrocera_oleae.CodonFreq.tsv.gz',\n",
    " 'Fopius_arisanus.CodonFreq.tsv.gz',\n",
    " 'Polistes_canadensis.CodonFreq.tsv.gz',\n",
    " 'Ceratitis_capitata.CDS.fasta.gz',\n",
    " 'Harpegnathos_saltator.CDS.fasta.gz',\n",
    " 'Stomoxys_calcitrans.CDS.fasta.gz',\n",
    " 'Ceratitis_capitata.CodonFreq.tsv.gz',\n",
    " 'Harpegnathos_saltator.CodonFreq.tsv.gz',\n",
    " 'Stomoxys_calcitrans.CodonFreq.tsv.gz',\n",
    " 'Copidosoma_floridanum.CDS.fasta.gz',\n",
    " 'Musca_domestica.CDS.fasta.gz',\n",
    " 'Copidosoma_floridanum.CodonFreq.tsv.gz',\n",
    " 'Musca_domestica.CodonFreq.tsv.gz']"
   ]
  },
  {
   "cell_type": "code",
   "execution_count": 5,
   "metadata": {},
   "outputs": [],
   "source": [
    "def download_file(file):\n",
    "    url = \"https://github.com/Xqua/Oskar_HGT_genomes/raw/master/Genes/CDS/{}\".format(file)\n",
    "    r = requests.get(url)\n",
    "    content = r.content\n",
    "    f = open(os.path.join(path, file), 'wb')\n",
    "    f.write(content)\n",
    "    f.close()\n",
    "    decompress(os.path.join(path, file))\n",
    "\n",
    "\n",
    "def decompress(f):\n",
    "    inF = gzip.GzipFile(f, 'rb')\n",
    "    s = inF.read()\n",
    "    inF.close()\n",
    "\n",
    "    outF = open(f[:-3], 'wb')\n",
    "    outF.write(s)\n",
    "    outF.close()\n",
    "    "
   ]
  },
  {
   "cell_type": "code",
   "execution_count": 6,
   "metadata": {
    "scrolled": true
   },
   "outputs": [
    {
     "name": "stdout",
     "output_type": "stream",
     "text": [
      "Acromyrmex_echinatior.CDS.fasta.gz\n",
      "Culex_quinquefasciatus.CDS.fasta.gz\n",
      "Nasonia_vitripennis.CDS.fasta.gz\n",
      "Acromyrmex_echinatior.CodonFreq.tsv.gz\n",
      "Culex_quinquefasciatus.CodonFreq.tsv.gz\n",
      "Nasonia_vitripennis.CodonFreq.tsv.gz\n",
      "Athalia_rosae.CDS.fasta.gz\n",
      "Drosophila_melanogaster.CDS.fasta.gz\n",
      "Neodiprion_lecontei.CDS.fasta.gz\n",
      "Athalia_rosae.CodonFreq.tsv.gz\n",
      "Drosophila_melanogaster.CodonFreq.tsv.gz\n",
      "Neodiprion_lecontei.CodonFreq.tsv.gz\n",
      "Bactrocera_dorsalis.CDS.fasta.gz\n",
      "Drosophila_virilis.CDS.fasta.gz\n",
      "Orussus_abietinus.CDS.fasta.gz\n",
      "Bactrocera_dorsalis.CodonFreq.tsv.gz\n",
      "Drosophila_virilis.CodonFreq.tsv.gz\n",
      "Orussus_abietinus.CodonFreq.tsv.gz\n",
      "Bactrocera_oleae.CDS.fasta.gz\n",
      "Fopius_arisanus.CDS.fasta.gz\n",
      "Polistes_canadensis.CDS.fasta.gz\n",
      "Bactrocera_oleae.CodonFreq.tsv.gz\n",
      "Fopius_arisanus.CodonFreq.tsv.gz\n",
      "Polistes_canadensis.CodonFreq.tsv.gz\n",
      "Ceratitis_capitata.CDS.fasta.gz\n",
      "Harpegnathos_saltator.CDS.fasta.gz\n",
      "Stomoxys_calcitrans.CDS.fasta.gz\n",
      "Ceratitis_capitata.CodonFreq.tsv.gz\n",
      "Harpegnathos_saltator.CodonFreq.tsv.gz\n",
      "Stomoxys_calcitrans.CodonFreq.tsv.gz\n",
      "Copidosoma_floridanum.CDS.fasta.gz\n",
      "Musca_domestica.CDS.fasta.gz\n",
      "Copidosoma_floridanum.CodonFreq.tsv.gz\n",
      "Musca_domestica.CodonFreq.tsv.gz\n"
     ]
    }
   ],
   "source": [
    "for f in filelist:\n",
    "    print(f)\n",
    "    download_file(f)"
   ]
  },
  {
   "cell_type": "code",
   "execution_count": null,
   "metadata": {},
   "outputs": [],
   "source": []
  }
 ],
 "metadata": {
  "kernelspec": {
   "display_name": "Python 3",
   "language": "python",
   "name": "python3"
  },
  "language_info": {
   "codemirror_mode": {
    "name": "ipython",
    "version": 3
   },
   "file_extension": ".py",
   "mimetype": "text/x-python",
   "name": "python",
   "nbconvert_exporter": "python",
   "pygments_lexer": "ipython3",
   "version": "3.6.5"
  }
 },
 "nbformat": 4,
 "nbformat_minor": 2
}
